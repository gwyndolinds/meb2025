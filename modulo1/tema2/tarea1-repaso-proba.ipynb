{
 "cells": [
  {
   "cell_type": "markdown",
   "metadata": {},
   "source": [
    "# Tarea 1. Repaso de teoría de probabilidad\n",
    "\n",
    "<img style=\"float: right; margin: 0px 0px 15px 15px;\" src=\"https://storage.needpix.com/rsynced_images/bayesian-2889576_1280.png\" width=\"200px\" height=\"180px\" />\n",
    "\n",
    "Esta constituye la primera tarea del curso. Las tareas están pensadas para que afiances los conocimientos vistos en clase, repases la clase y debas darle una segunda leida. Incluso revisar otro material.\n",
    "\n",
    "Esta primera tarea contiene ejercicios para que repases conceptos básicos de teoría de probabilidad.\n",
    "\n",
    "Por favor, intenta ser lo más explícit@ posible, y en lo posible, apóyate de la escritura matemática con $\\LaTeX$.\n",
    "\n",
    "Recuerda además que ante cualquier duda, me puedes contactar al correo esjimenezro@iteso.mx.\n",
    "\n",
    "<p style=\"text-align:right;\"> Imagen recuperada de: https://storage.needpix.com/rsynced_images/bayesian-2889576_1280.png.</p>\n",
    "\n",
    "___"
   ]
  },
  {
   "cell_type": "markdown",
   "metadata": {},
   "source": [
    "## 1. \n",
    "\n",
    "Supongamos que una prueba para la COVID-19 tiene una precisión del 95%. Esto es, si el paciente está infectado, entonces el resultado de la prueba será positivo con probabilidad de 0.95, y si el paciente NO está infectado, el resutado de la prueba será negativo con probabilidad de 0.95.\n",
    "\n",
    "Además, supongamos que la probabilidad de estar infectado es de 0.017 (1.7%).\n",
    "\n",
    "Ahora, suponga que una persona tuvo un resultado de prueba positivo.\n",
    "\n",
    "1. ¿Cuál es la probabilidad de que esta persona esté infectada en efecto?\n",
    "\n",
    "2. ¿Cuál es la probabilidad de que no esté infectada?"
   ]
  },
  {
   "cell_type": "markdown",
   "metadata": {},
   "source": [
    "$$\n",
    "P(infectado \\mid prueba+) \n",
    "= \\frac{P(prueba+ \\mid infectado)\\,P(infectado)}{P(prueba+ \\mid infectado)\\,P(infectado) + P(prueba+ \\mid \\neg infectado)\\,P(\\neg infectado)}\n",
    "$$\n",
    "\n",
    "Sustituyendo:\n",
    "\n",
    "$$\n",
    "= \\frac{(0.95)(0.017)}{(0.95)(0.017) + (0.05)(0.983)}\n",
    "= \\frac{0.01615}{0.0653}\n",
    "\\approx 0.2473 \\times 100%$$\n",
    "p(infecectdo|prueba+) = 0.2473\n",
    "\n",
    "p(no infectado|prueba+) 0.7527\n",
    "\n",
    "\n"
   ]
  },
  {
   "cell_type": "markdown",
   "metadata": {},
   "source": [
    "## 2. \n",
    "\n",
    "(Ejercicio 1.3 Pattern Recognition and Machine Learning, by Christopher M. Bishop.) \n",
    "\n",
    "Supongamos que tenemos tres cajas: $r$ (roja), $a$ (azul), y $v$ (verde). Los contenidos de las cajas son:\n",
    "\n",
    "- $r$: 3 manzanas, 4 naranjas, y 3 limas.\n",
    "- $a$: 1 manzanas, 1 naranjas, y 0 limas.\n",
    "- $v$: 3 manzanas, 3 naranjas, y 4 limas\n",
    "\n",
    "Si la caja se elige aleatoriamente con probabilidades $p(r) = 0.2$, $p(a) = 0.2$, $p(v) = 0.6$, y una fruta se selecciona de la caja elegida, con igual probabilidad de seleccionar cualquier elemento de la caja, \n",
    "\n",
    "1. ¿Cuál es la probabilida de seleccionar una manzana?\n",
    "2. Si observamos que la fruta seleccionada es una naranja, ¿Cuál es la probabilidad de que provenga de la caja verde?"
   ]
  },
  {
   "cell_type": "markdown",
   "metadata": {},
   "source": [
    "##### probabilidad de seleccionar una manzana\n",
    "$$P(manzana|r,a,v) = P(manzana|r) P(r) + P(manzana|a)P(a) + P(manzana|v)P(v)$$\n",
    "$$P(manzana|r,a,v) = (0.3) (0.2) + (0.5) (0.2) + 3/10 (0.6) = 0.34 $$"
   ]
  },
  {
   "cell_type": "markdown",
   "metadata": {},
   "source": [
    "##### si observamos que la fruta seleccionada es una naranja, Cual es la probabilidad de que provenga de la caja verde?\n",
    "\n",
    "$$ P(v|naranja) = \\frac{P(naranja|v)P(v)}{P(naranja)} $$\n",
    "$$ P(v|naranja) = \\frac{P(naranja|v)P(v)}{P(naranja|v)P(v)+ P(naranja|a)P(a) + P(naranja|r)P(r)} $$\n",
    "\n",
    "sustituyendo:\n",
    "$$ P(v|naranja) = \\frac{(0.3)(0.6)}{(0.4)(0.2) + (0.5)(0.2) + (0.3)(0.6)}  = 0.5 $$\n"
   ]
  },
  {
   "cell_type": "markdown",
   "metadata": {},
   "source": [
    "## 3. \n",
    "\n",
    "Para cada situación:\n",
    "1. Identifica la distribución correcta (Bernoulli, Binomial o Geométrica).\n",
    "2. Determina los parámetros \\( p \\) y \\( n \\) si aplica.\n",
    "3. Justifica tu elección.\n",
    "\n",
    "---\n",
    "\n",
    "### Ejercicio 1\n",
    "En un examen médico, un resultado puede ser positivo o negativo. La probabilidad de resultado positivo es 0.12.\n",
    "\n",
    "---\n",
    "\n",
    "### Ejercicio 2\n",
    "En un torneo de videojuegos, un jugador acierta un golpe crítico con probabilidad 0.25 en cada intento. Se mide cuántos intentos necesita hasta lograr su primer golpe crítico.\n",
    "\n",
    "---\n",
    "\n",
    "### Ejercicio 3\n",
    "Un 18% de los paquetes enviados por una tienda llegan con retraso. Se seleccionan 40 paquetes al azar y se cuenta cuántos llegan tarde.\n",
    "\n",
    "---\n",
    "\n",
    "### Ejercicio 4\n",
    "Una fábrica produce microchips con tasa de defectos del 1%. Se inspeccionan 200 microchips y se contabiliza el número de defectuosos.\n",
    "\n",
    "---\n",
    "\n",
    "### Ejercicio 5\n",
    "Un visitante de un sitio web completa un formulario con probabilidad 0.05. Se registran los intentos hasta que alguien lo complete por primera vez.\n",
    "\n",
    "---\n",
    "\n",
    "### Ejercicio 6\n",
    "En un laboratorio, la probabilidad de que una reacción química tenga éxito es 0.6. Se mide si la reacción de una muestra seleccionada al azar es exitosa.\n",
    "\n",
    "---\n",
    "\n",
    "**Espacio para respuestas:**\n",
    "\n",
    "| Ejercicio | Distribución | Parámetros | Justificación breve |\n",
    "|-----------|--------------|------------|---------------------|\n",
    "| 1         |Bernoulli     |p=0.12|Un ensayo y dos posibles resultados|\n",
    "| 2         |Geometrica    |p=0.25|se buscan los intentos hasta el exito|\n",
    "| 3         |Binomial      |n=40, p=0.18|como bernoulli pero para muchos ensayos|\n",
    "| 4         |Binomial      |n=200,p=0.01|n ensayos defectuosos e independientes|\n",
    "| 5         |Geometrica    |p=0.05      |intentos hasta que la primera persona lo complete|\n",
    "| 6         |Bernoulli     |p=0.6       |solo un experimento esto es bernoulli|"
   ]
  },
  {
   "cell_type": "markdown",
   "metadata": {},
   "source": [
    "## 4.\n",
    "\n",
    "Para cada situación:\n",
    "1. Identifica la distribución más adecuada (Uniforme, Exponencial o Normal).\n",
    "2. Especifica los parámetros correspondientes.\n",
    "3. Justifica tu elección.\n",
    "\n",
    "---\n",
    "\n",
    "### Ejercicio 1\n",
    "El tiempo que tarda en descargarse un archivo grande por internet se tarda en promedio 5 min.\n",
    "\n",
    "---\n",
    "\n",
    "### Ejercicio 2\n",
    "En una competencia, los tiempos de finalización de los corredores siguen un patrón aproximadamente simétrico con media de 45.3 minutos y desviación estándar de 2.1 minutos.\n",
    "\n",
    "---\n",
    "\n",
    "### Ejercicio 3\n",
    "La velocidad de un coche en una carretera controlada se distribuye uniformemente entre 80 km/h y 100 km/h.\n",
    "\n",
    "---\n",
    "\n",
    "### Ejercicio 4\n",
    "El intervalo de tiempo (en minutos) entre dos terremotos significativos en una región es en promedio 3 años.\n",
    "\n",
    "---\n",
    "\n",
    "### Ejercicio 5\n",
    "La puntuación de un examen estandarizado tiene distribución de media 500 y desviación estándar 100.\n",
    "\n",
    "---\n",
    "\n",
    "### Ejercicio 6\n",
    "Un dado electrónico genera números reales con igual probabilidad entre 2.5 y 4.0.\n",
    "\n",
    "---\n",
    "\n",
    "**Espacio para respuestas:**\n",
    "\n",
    "| Ejercicio | Distribución | Parámetros | Justificación breve |\n",
    "|-----------|--------------|------------|---------------------|\n",
    "| 1         |exponencial   |$\\lambda$ =1/5|se modela por el tiempo y un promedio|\n",
    "| 2         |normal|$\\mu$= 45.3 $\\sigma$=2.1|datos simetricos |\n",
    "| 3         |Uniforme|a = 80,b=100|da un intervalo que se distribuye uniformemente|\n",
    "| 4         |Exponencial |$\\lambda$=1/3|se modela por tiempo|\n",
    "| 5         |Normal| $\\mu , \\sigma$ = 500, 100|esta estandarizado casi simetrico|\n",
    "| 6         |Uniforme|a=2.5,b=4.0|se da un intervalo, y con igual probabilidad|"
   ]
  },
  {
   "cell_type": "markdown",
   "metadata": {},
   "source": [
    "## 5.\n",
    "\n",
    "Leer la **sección 1.2.4. (The Gaussian distribution)** del libro Pattern Recognition and Machine Learning, by Christopher M. Bishop, las páginas 24 y 25 . A partir de ello:\n",
    "\n",
    "1. ¿Cuáles son los parámetros que caracterizan una distribución Gaussiana?, ¿Qué significan?\n",
    "   \n",
    "2. Define una V.A. normal usando `scipy.stats.norm`, con media y varianza que prefieras:\n",
    "   \n",
    "   ```python\n",
    "   x = stats.norm(loc=mu, scale=sigma)\n",
    "   ```\n",
    "   \n",
    "   Luego, muestrea 10, 100, 1000, y 10000 veces esta V.A. usando el método `rvs`:\n",
    "   \n",
    "   ```python\n",
    "   samples = x.rvs(n)\n",
    "   ```\n",
    "   \n",
    "   Finalmente, toma el promedio simple de cada uno de los conjuntos de muestras:\n",
    "   \n",
    "   ```python\n",
    "   samples.mean()\n",
    "   ```\n",
    "   \n",
    "   ¿Qué puedes concluir del efecto de la cantidad de las muestras sobre este promedio?"
   ]
  },
  {
   "cell_type": "code",
   "execution_count": 2,
   "metadata": {},
   "outputs": [],
   "source": [
    "from scipy import stats\n",
    "import numpy as np"
   ]
  },
  {
   "cell_type": "markdown",
   "metadata": {},
   "source": [
    "Los parametros de la distribucion gaussiana son $\\mu$ la media y la varianza el centro de la distribucion $\\sigma^2$ la dispersion de los valores respecto a la media"
   ]
  },
  {
   "cell_type": "code",
   "execution_count": 3,
   "metadata": {},
   "outputs": [
    {
     "name": "stdout",
     "output_type": "stream",
     "text": [
      "48.82037770649775 10\n",
      "49.64120107544471 100\n",
      "49.82305518387646 1000\n",
      "50.01425221815081 10000\n",
      "50.01141930498431 100000\n",
      "50.00556611918373 1000000\n"
     ]
    }
   ],
   "source": [
    "mu ,sigma= 50, 10\n",
    "n = [10,100,1_000,10_000,100_000, 100_0000 ]\n",
    "x = stats.norm(loc=mu, scale=sigma)\n",
    "for i in range(len(n)):\n",
    "  samples = x.rvs(n[i])\n",
    "  print(samples.mean(), n[i])"
   ]
  },
  {
   "cell_type": "markdown",
   "metadata": {},
   "source": [
    "el promedio entre mas grande sea n mas cercano es a la media mu"
   ]
  },
  {
   "cell_type": "markdown",
   "metadata": {},
   "source": [
    "## 6.\n",
    "\n",
    "Es común que haya cierta confusión en el significado del valor esperado. Un significado que le podemos dar a este valor, viene dado por la [ley de los grandes números](https://www.khanacademy.org/math/statistics-probability/random-variables-stats-library/expected-value-lib/v/law-of-large-numbers), que básicamente dice que:\n",
    "\n",
    "$$\n",
    "\\mathbb{E}_p[f] \\to \\frac{1}{N} \\sum_{i=1}^N f(x_i), \\text{ cuando } N \\to \\infty\n",
    "$$"
   ]
  },
  {
   "cell_type": "markdown",
   "metadata": {},
   "source": [
    "Para convencerte de esto, en este ejercicio simularás la tirada de un dado justo:\n",
    "\n",
    "1. Definimos la VA $X$ como el valor que muestra el dado cuando cae, es decir $\\mathrm{Val}(X) = \\{1, 2, 3, 4, 5, 6\\}$.\n",
    "2. Como el dado es justo $P(X=i)=\\frac{1}{|\\mathrm{Val}(X)|}=\\frac{1}{6}$ para todo $i=1,\\dots,6$.\n",
    "\n",
    "¿Cuál es el valor esperado $E[X]$?"
   ]
  },
  {
   "cell_type": "code",
   "execution_count": null,
   "metadata": {},
   "outputs": [],
   "source": []
  },
  {
   "cell_type": "code",
   "execution_count": 4,
   "metadata": {},
   "outputs": [
    {
     "data": {
      "text/plain": [
       "3.5"
      ]
     },
     "execution_count": 4,
     "metadata": {},
     "output_type": "execute_result"
    }
   ],
   "source": [
    "# Calcular el valor esperado teórico de la VA X\n",
    "esperado = np.mean([1,2,3,4,5,6])\n",
    "esperado"
   ]
  },
  {
   "cell_type": "markdown",
   "metadata": {},
   "source": [
    "Ahora, viene el paso de simulación. \n",
    "\n",
    "1. Vas a simular por lo menos 1000 veces la tirada del dado, guardando a cada tirada el resultado obtenido.\n",
    "\n",
    "2. Vas a calcular el valor promedio de los resultados *a cada tirada*. Es decir, si los resultados en las primeras $n$ tiradas son $x_1,\\dots,x_n$, el valor promedio en la tirada $n$ es\n",
    "\n",
    "   $$\\bar{x}_n = \\frac{x_1+\\dots+x_n}{n}.$$\n",
    "\n",
    "3. Finalmente, vas a graficar los valores promedio obtenidos a cada tirada (en el eje $y$) vs. el número de tiradas (en el eje $x$). Incluir el valor esperado teórico en la gráfica. ¿Qué observas?\n",
    "\n",
    "*Ayuda: apoyarse del modulo random de numpy.*"
   ]
  },
  {
   "cell_type": "code",
   "execution_count": 5,
   "metadata": {},
   "outputs": [
    {
     "data": {
      "text/plain": [
       "(1000,)"
      ]
     },
     "execution_count": 5,
     "metadata": {},
     "output_type": "execute_result"
    }
   ],
   "source": [
    "# Simular 1000 veces\n",
    "n = 1000\n",
    "\n",
    "simulaciones = np.random.randint(1,7,n) \n",
    "simulaciones.shape"
   ]
  },
  {
   "cell_type": "code",
   "execution_count": 8,
   "metadata": {},
   "outputs": [
    {
     "data": {
      "text/plain": [
       "Text(0.5, 1.0, 'Promedio acumulado de tiradas ')"
      ]
     },
     "execution_count": 8,
     "metadata": {},
     "output_type": "execute_result"
    },
    {
     "data": {
      "image/png": "[encoded data removed]",
      "text/plain": [
       "<Figure size 800x500 with 1 Axes>"
      ]
     },
     "metadata": {},
     "output_type": "display_data"
    }
   ],
   "source": [
    "# Calcular el valor promedio de los resultados a cada tirada\n",
    "import matplotlib.pyplot as plt\n",
    "tiradas = []\n",
    "suma_ac = 0\n",
    "for i in range(len(simulaciones)):\n",
    "  suma_ac += simulaciones[i]\n",
    "  promedio = suma_ac/(i+1)\n",
    "  tiradas.append(promedio)\n",
    "\n",
    "plt.figure(figsize=(8, 5))\n",
    "plt.plot(range(1, n+1), tiradas, label=\"Promedio acumulado\")\n",
    "plt.axhline(y=3.5, color=\"red\", linestyle=\"--\", label=\"Valor esperado teórico (3.5)\")\n",
    "plt.xlabel(\"Número de tiradas\")\n",
    "plt.ylabel(\"Promedio\")\n",
    "plt.title(\"Promedio acumulado de tiradas \")"
   ]
  },
  {
   "cell_type": "markdown",
   "metadata": {},
   "source": [
    "cada vez mas se va pareciendo al valor esperado"
   ]
  },
  {
   "cell_type": "markdown",
   "metadata": {},
   "source": [
    "## 7.\n",
    "\n",
    "[Lectura recomendada](https://ocw.mit.edu/courses/18-05-introduction-to-probability-and-statistics-spring-2022/mit18_05_s22_class06-prep-b.pdf)"
   ]
  },
  {
   "cell_type": "markdown",
   "metadata": {},
   "source": [
    "<script>\n",
    "  $(document).ready(function(){\n",
    "    $('div.prompt').hide();\n",
    "    $('div.back-to-top').hide();\n",
    "    $('nav#menubar').hide();\n",
    "    $('.breadcrumb').hide();\n",
    "    $('.hidden-print').hide();\n",
    "  });\n",
    "</script>\n",
    "\n",
    "<footer id=\"attribution\" style=\"float:right; color:#808080; background:#fff;\">\n",
    "Created with Jupyter by Esteban Jiménez Rodríguez.\n",
    "</footer>"
   ]
  }
 ],
 "metadata": {
  "kernelspec": {
   "display_name": "Python 3 (ipykernel)",
   "language": "python",
   "name": "python3"
  },
  "language_info": {
   "codemirror_mode": {
    "name": "ipython",
    "version": 3
   },
   "file_extension": ".py",
   "mimetype": "text/x-python",
   "name": "python",
   "nbconvert_exporter": "python",
   "pygments_lexer": "ipython3",
   "version": "3.11.13"
  }
 },
 "nbformat": 4,
 "nbformat_minor": 4
}
